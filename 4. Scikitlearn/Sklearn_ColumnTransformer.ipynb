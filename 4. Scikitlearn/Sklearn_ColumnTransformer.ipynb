{
  "nbformat": 4,
  "nbformat_minor": 0,
  "metadata": {
    "colab": {
      "name": "10. Sklearn_ColumnTransformer.ipynb",
      "provenance": [],
      "collapsed_sections": [],
      "authorship_tag": "ABX9TyORosPcYBqzi+sExasZcbRo",
      "include_colab_link": true
    },
    "kernelspec": {
      "name": "python3",
      "display_name": "Python 3"
    }
  },
  "cells": [
    {
      "cell_type": "markdown",
      "metadata": {
        "id": "view-in-github",
        "colab_type": "text"
      },
      "source": [
        "<a href=\"https://colab.research.google.com/github/Msanjayds/Machine_Learning_Packages/blob/master/4.%20Scikitlearn/Sklearn_ColumnTransformer.ipynb\" target=\"_parent\"><img src=\"https://colab.research.google.com/assets/colab-badge.svg\" alt=\"Open In Colab\"/></a>"
      ]
    },
    {
      "cell_type": "markdown",
      "metadata": {
        "id": "1Fsq7tc_enam",
        "colab_type": "text"
      },
      "source": [
        "## **ColumnTransformer - To apply different preprocessing to different features**"
      ]
    },
    {
      "cell_type": "code",
      "metadata": {
        "id": "3sIxbqEPYuUN",
        "colab_type": "code",
        "colab": {}
      },
      "source": [
        "from sklearn import model_selection\n",
        "from sklearn.linear_model import LinearRegression\n",
        "from sklearn.datasets import fetch_openml\n",
        "from sklearn.compose import ColumnTransformer\n",
        "from sklearn.pipeline import Pipeline\n",
        "from sklearn.impute import SimpleImputer\n",
        "from sklearn.preprocessing import StandardScaler, OneHotEncoder\n"
      ],
      "execution_count": 2,
      "outputs": []
    },
    {
      "cell_type": "code",
      "metadata": {
        "id": "hz8MYlvGZTS2",
        "colab_type": "code",
        "colab": {
          "base_uri": "https://localhost:8080/",
          "height": 545
        },
        "outputId": "90cecb17-3919-4c2c-8499-6f774678f95b"
      },
      "source": [
        "############################################\n",
        "#Load auto93 data which contains both categorial and numeric features.\n",
        "x,y = fetch_openml(\"auto93\", version=1, as_frame=True, return_X_y=True)\n",
        "x.info()"
      ],
      "execution_count": 19,
      "outputs": [
        {
          "output_type": "stream",
          "text": [
            "<class 'pandas.core.frame.DataFrame'>\n",
            "RangeIndex: 93 entries, 0 to 92\n",
            "Data columns (total 22 columns):\n",
            " #   Column                         Non-Null Count  Dtype   \n",
            "---  ------                         --------------  -----   \n",
            " 0   Manufacturer                   93 non-null     category\n",
            " 1   Type                           93 non-null     category\n",
            " 2   City_MPG                       93 non-null     float64 \n",
            " 3   Highway_MPG                    93 non-null     float64 \n",
            " 4   Air_Bags_standard              93 non-null     category\n",
            " 5   Drive_train_type               93 non-null     category\n",
            " 6   Number_of_cylinders            92 non-null     float64 \n",
            " 7   Engine_size                    93 non-null     float64 \n",
            " 8   Horsepower                     93 non-null     float64 \n",
            " 9   RPM                            93 non-null     float64 \n",
            " 10  Engine_revolutions_per_mile    93 non-null     float64 \n",
            " 11  Manual_transmission_available  93 non-null     category\n",
            " 12  Fuel_tank_capacity             93 non-null     float64 \n",
            " 13  Passenger_capacity             93 non-null     float64 \n",
            " 14  Length                         93 non-null     float64 \n",
            " 15  Wheelbase                      93 non-null     float64 \n",
            " 16  Width                          93 non-null     float64 \n",
            " 17  U-turn_space                   93 non-null     float64 \n",
            " 18  Rear_seat_room                 91 non-null     float64 \n",
            " 19  Luggage_capacity               82 non-null     float64 \n",
            " 20  Weight                         93 non-null     float64 \n",
            " 21  Domestic                       93 non-null     category\n",
            "dtypes: category(6), float64(16)\n",
            "memory usage: 14.4 KB\n"
          ],
          "name": "stdout"
        }
      ]
    },
    {
      "cell_type": "code",
      "metadata": {
        "id": "AF1OOVRvZLFw",
        "colab_type": "code",
        "colab": {
          "base_uri": "https://localhost:8080/",
          "height": 163
        },
        "outputId": "6eb2f27f-9824-41a3-c726-3c117984127e"
      },
      "source": [
        "#Create a list of Numeric adn Categorical features\n",
        "numeric_features = x.select_dtypes(include=['int64', 'float64']).columns\n",
        "categorical_features = x.select_dtypes(include=['category','object']).columns\n",
        "\n",
        "print(numeric_features, categorical_features)\n",
        "\n"
      ],
      "execution_count": 18,
      "outputs": [
        {
          "output_type": "stream",
          "text": [
            "Index(['City_MPG', 'Highway_MPG', 'Number_of_cylinders', 'Engine_size',\n",
            "       'Horsepower', 'RPM', 'Engine_revolutions_per_mile',\n",
            "       'Fuel_tank_capacity', 'Passenger_capacity', 'Length', 'Wheelbase',\n",
            "       'Width', 'U-turn_space', 'Rear_seat_room', 'Luggage_capacity',\n",
            "       'Weight'],\n",
            "      dtype='object') Index(['Manufacturer', 'Type', 'Air_Bags_standard', 'Drive_train_type',\n",
            "       'Manual_transmission_available', 'Domestic'],\n",
            "      dtype='object')\n"
          ],
          "name": "stdout"
        }
      ]
    },
    {
      "cell_type": "code",
      "metadata": {
        "id": "WzAW7-XYaFEX",
        "colab_type": "code",
        "colab": {}
      },
      "source": [
        "#Create numeric n categorical transformer for preprocessing\n",
        "numeric_transformer = Pipeline(steps=[\n",
        "                               ('imputer', SimpleImputer(strategy='median')),\n",
        "                               ('scaler', StandardScaler())                                              \n",
        "                                      ])\n",
        "\n",
        "categorical_transformer = Pipeline(steps=[\n",
        "                               ('imputer', SimpleImputer(strategy='constant', fill_value='missing')),\n",
        "                               ('onehot', OneHotEncoder(handle_unknown='ignore'))                                              \n",
        "                                      ])"
      ],
      "execution_count": 21,
      "outputs": []
    },
    {
      "cell_type": "code",
      "metadata": {
        "id": "paZ1eye3aaH1",
        "colab_type": "code",
        "colab": {}
      },
      "source": [
        "#Use the Created Column transofers to apply to the correct features\n",
        "\n",
        "preprocessor = ColumnTransformer(\n",
        "    transformers=[\n",
        "                 ('num', numeric_transformer, numeric_features),\n",
        "                 ('cat', categorical_transformer, categorical_features)])"
      ],
      "execution_count": 23,
      "outputs": []
    },
    {
      "cell_type": "code",
      "metadata": {
        "id": "4hUKPrNlcV1H",
        "colab_type": "code",
        "colab": {}
      },
      "source": [
        "#Append the regressor esiamtor to the preprocessor\n",
        "\n",
        "lr = Pipeline(steps=[('preprocessor', preprocessor),\n",
        "                     ('Regressor', LinearRegression())\n",
        "                     ])"
      ],
      "execution_count": 25,
      "outputs": []
    },
    {
      "cell_type": "code",
      "metadata": {
        "id": "9MdPXbRQcre3",
        "colab_type": "code",
        "colab": {
          "base_uri": "https://localhost:8080/",
          "height": 35
        },
        "outputId": "2901696a-78a9-441c-c026-2aa2008bff48"
      },
      "source": [
        "#Fit the compelte pipeline\n",
        "x_train,x_test,y_train,y_test = model_selection.train_test_split(x,y,random_state=0)\n",
        "lr.fit(x_train,y_train)\n",
        "print(f\"Model score {lr.score(x_test,y_test)}\")"
      ],
      "execution_count": 30,
      "outputs": [
        {
          "output_type": "stream",
          "text": [
            "Model score -7.75386716906239e+22\n"
          ],
          "name": "stdout"
        }
      ]
    },
    {
      "cell_type": "code",
      "metadata": {
        "id": "rW6_pGPudUYn",
        "colab_type": "code",
        "colab": {}
      },
      "source": [
        ""
      ],
      "execution_count": null,
      "outputs": []
    }
  ]
}